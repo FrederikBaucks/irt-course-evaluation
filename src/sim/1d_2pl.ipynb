{
 "cells": [
  {
   "cell_type": "markdown",
   "metadata": {},
   "source": [
    "## One-dimensional 2PL-IRT simulation\n"
   ]
  },
  {
   "cell_type": "code",
   "execution_count": 1,
   "metadata": {},
   "outputs": [],
   "source": [
    "import os\n",
    "os.chdir(\"../..\")\n",
    "import numpy as np\n",
    "import pandas as pd\n",
    "import scipy.stats as stats\n",
    "from config.constants import SEEDS, DATA_PATH\n",
    "from src.utils.sim import save_resp_matrix\n",
    "from src.utils.misc import set_random_seeds, sigmoid"
   ]
  },
  {
   "cell_type": "code",
   "execution_count": 2,
   "metadata": {},
   "outputs": [],
   "source": [
    "# hyperparameters\n",
    "NUM_STUDENTS = 400\n",
    "NUM_COURSES = 20\n",
    "COURSE_PROP = 0.8  # proportion of courses average student took\n",
    "\n",
    "# controls IRT parameters\n",
    "ABILITY_VAR = 1\n",
    "DIFF_VAR = 1\n",
    "DISC_MEAN = 1\n",
    "DISC_VAR = 0.5"
   ]
  },
  {
   "cell_type": "code",
   "execution_count": 3,
   "metadata": {},
   "outputs": [],
   "source": [
    "def generate_2pl_parameters():\n",
    "    thetas = stats.norm.rvs(loc=0.0, scale=ABILITY_VAR, size=NUM_STUDENTS)\n",
    "    diffs = stats.norm.rvs(loc=0.0, scale=DIFF_VAR, size=NUM_COURSES)\n",
    "    discs = stats.truncnorm.rvs(0 - DISC_MEAN, np.Inf, loc=DISC_MEAN,\n",
    "                                scale=DISC_VAR, size=NUM_COURSES)\n",
    "    return thetas, diffs, discs\n",
    "\n",
    "def prob_2pl_correct(theta, diff, disc):\n",
    "    x = disc * (theta - diff)\n",
    "    return sigmoid(x)\n",
    "\n",
    "def create_resp_matrix(thetas, diffs, discs, prop=COURSE_PROP):\n",
    "    resp_matrix = []\n",
    "    for t in thetas:\n",
    "        cor_prob = prob_2pl_correct(t, diffs, discs)\n",
    "        resp_vec = (np.random.random(diffs.shape[0]) <= cor_prob).astype(int)\n",
    "        mask = stats.bernoulli.rvs(1 - prop, size=diffs.shape[0])\n",
    "        resp_vec[mask.astype(bool)] = -1  # indicate missing responses\n",
    "        resp_matrix.append(resp_vec)\n",
    "    return np.vstack(resp_matrix)"
   ]
  },
  {
   "cell_type": "code",
   "execution_count": 4,
   "metadata": {},
   "outputs": [],
   "source": [
    "# generate simulation data\n",
    "for seed in SEEDS:\n",
    "    set_random_seeds(seed)\n",
    "    thetas, diffs, discs = generate_2pl_parameters()\n",
    "    mat = create_resp_matrix(thetas, diffs, discs, prop=COURSE_PROP)\n",
    "\n",
    "    # save response matrix\n",
    "    resp_path = DATA_PATH[\"sim\"] + \"1d_2pl/\" + \"data_\" + str(seed) + \".csv\"\n",
    "    save_resp_matrix(mat, resp_path)\n",
    "\n",
    "    # save model parameters\n",
    "    theta_path = DATA_PATH[\"sim\"] + \"1d_2pl/\" + \"theta_\" + str(seed) + \".csv\"\n",
    "    df = pd.DataFrame(thetas, columns=[\"theta\"])\n",
    "    df.to_csv(theta_path, index=False)\n",
    "\n",
    "    course_path = DATA_PATH[\"sim\"] + \"1d_2pl/\" + \"course_\" + str(seed) + \".csv\"\n",
    "    df = pd.DataFrame(np.vstack([diffs, discs]).T,\n",
    "                      columns=[\"difficulty\", \"discrimination\"])\n",
    "    df.to_csv(course_path, index=False)\n"
   ]
  }
 ],
 "metadata": {
  "kernelspec": {
   "display_name": "Python 3.7.10 ('vedu')",
   "language": "python",
   "name": "python3"
  },
  "language_info": {
   "codemirror_mode": {
    "name": "ipython",
    "version": 3
   },
   "file_extension": ".py",
   "mimetype": "text/x-python",
   "name": "python",
   "nbconvert_exporter": "python",
   "pygments_lexer": "ipython3",
   "version": "3.7.10"
  },
  "orig_nbformat": 4,
  "vscode": {
   "interpreter": {
    "hash": "131ebaa5338609a15c52f86d68ffba31bcea2eb6319c3b54f23777268b140626"
   }
  }
 },
 "nbformat": 4,
 "nbformat_minor": 2
}
